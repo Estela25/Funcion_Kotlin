{
  "cells": [
    {
      "cell_type": "markdown",
      "metadata": {
        "id": "view-in-github",
        "colab_type": "text"
      },
      "source": [
        "<a href=\"https://colab.research.google.com/github/Estela25/Funcion_Kotlin/blob/master/Te_damos_la_bienvenida_a_Colaboratory.ipynb\" target=\"_parent\"><img src=\"https://colab.research.google.com/assets/colab-badge.svg\" alt=\"Open In Colab\"/></a>"
      ]
    },
    {
      "cell_type": "code",
      "source": [
        "def cubo(num):\n",
        "  return num**3\n",
        "numeros= [5,4,7,8]\n",
        "numCubo = list(map(cubo, numeros))\n",
        "numxTres=list(map(lambda num: num*3, numeros))  \n",
        "\n",
        "print (\"Eleve al cubo la lista\", numCubo, numxTres)"
      ],
      "metadata": {
        "colab": {
          "base_uri": "https://localhost:8080/"
        },
        "id": "bWFaWU5I5LVu",
        "outputId": "13d9efa3-bc0f-482c-84bc-66fd0e3d8f38"
      },
      "execution_count": 5,
      "outputs": [
        {
          "output_type": "stream",
          "name": "stdout",
          "text": [
            "Eleve al cubo la lista [125, 64, 343, 512] [15, 12, 21, 24]\n"
          ]
        }
      ]
    },
    {
      "cell_type": "code",
      "source": [
        "def impares(num):\n",
        "  return num%2>0\n",
        "\n",
        "impares= list(filter(impares,numeros))\n",
        "\n",
        "print(impares)\n"
      ],
      "metadata": {
        "id": "Wsv5VH2K_7Ep",
        "outputId": "5c14b7e6-f995-4807-b15f-931c6749c8b6",
        "colab": {
          "base_uri": "https://localhost:8080/"
        }
      },
      "execution_count": 12,
      "outputs": [
        {
          "output_type": "stream",
          "name": "stdout",
          "text": [
            "[5, 7]\n"
          ]
        }
      ]
    }
  ],
  "metadata": {
    "colab": {
      "collapsed_sections": [],
      "name": "Te damos la bienvenida a Colaboratory",
      "provenance": [],
      "include_colab_link": true
    },
    "kernelspec": {
      "display_name": "Python 3",
      "name": "python3"
    }
  },
  "nbformat": 4,
  "nbformat_minor": 0
}