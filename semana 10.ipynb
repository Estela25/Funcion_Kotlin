{
  "cells": [
    {
      "cell_type": "markdown",
      "metadata": {
        "id": "view-in-github",
        "colab_type": "text"
      },
      "source": [
        "<a href=\"https://colab.research.google.com/github/Estela25/Funcion_Kotlin/blob/master/semana%2010.ipynb\" target=\"_parent\"><img src=\"https://colab.research.google.com/assets/colab-badge.svg\" alt=\"Open In Colab\"/></a>"
      ]
    },
    {
      "cell_type": "markdown",
      "source": [
        "ENTRENAR UNA IA QUE COMBIENTA GRADOS CELSIUS A FAHRENHEIT"
      ],
      "metadata": {
        "id": "POo66cfypV_z"
      }
    },
    {
      "cell_type": "code",
      "source": [
        "#Importar la librerias \n",
        "import tensorflow as tf\n",
        "import pandas as pd\n",
        "import matplotlib.pyplot as plt\n",
        "import seaborn as sb"
      ],
      "metadata": {
        "id": "yPQooEU8lJaH"
      },
      "execution_count": 1,
      "outputs": []
    },
    {
      "cell_type": "code",
      "source": [
        "#leer datos de entrenamiento\n",
        "temperaturas = pd.read_csv(\"/content/Grados.csv\",sep=\";\")\n",
        "print(temperaturas[\"Celsius\"])"
      ],
      "metadata": {
        "id": "T54A9IFRqb3v"
      },
      "execution_count": null,
      "outputs": []
    },
    {
      "cell_type": "code",
      "source": [
        "#Graficar dcatos\n",
        "sb.scatterplot(temperaturas[\"Celsius\"],temperaturas[\"Fahrenheit\"])\n",
        "plt.show"
      ],
      "metadata": {
        "id": "BTVzT9Swq_m1"
      },
      "execution_count": null,
      "outputs": []
    },
    {
      "cell_type": "code",
      "source": [
        "#Datos de entrada y salida \n",
        "celcius = temperaturas[\"Celsius\"]\n",
        "fahrenheit = temperaturas[\"Fahrenheit\"]"
      ],
      "metadata": {
        "id": "FY_i6Q-hrX7M"
      },
      "execution_count": 5,
      "outputs": []
    },
    {
      "cell_type": "code",
      "source": [
        "#Modelo de entrenamiento\n",
        "modelo = tf.keras.Sequential()\n",
        "modelo.add(tf.keras.layers.Dense(units=1, input_shape=[1]))"
      ],
      "metadata": {
        "id": "IxdDwW-Qs7ZH"
      },
      "execution_count": 6,
      "outputs": []
    },
    {
      "cell_type": "code",
      "source": [
        "#Recopilare el modelo \n",
        "modelo.compile(optimizer=tf.keras.optimizers.Adam(1), loss='mean_squared_error')"
      ],
      "metadata": {
        "id": "BllKYJ_ct85J"
      },
      "execution_count": 9,
      "outputs": []
    },
    {
      "cell_type": "code",
      "source": [
        "#Entrenar el modelo\n",
        "epocas = modelo.fit(celcius, fahrenheit, epochs=200, verbose=0)"
      ],
      "metadata": {
        "id": "4Uy4lEK4vLji"
      },
      "execution_count": 14,
      "outputs": []
    },
    {
      "cell_type": "code",
      "source": [
        "#Hacer predicciones... verificar si el resultado es el esperado\n",
        "f = modelo.predict([5778])\n",
        "print(f[0][0])"
      ],
      "metadata": {
        "id": "ajLkUj4uwErt",
        "outputId": "8952c70c-cb5e-47db-d423-8d3c9f6d3749",
        "colab": {
          "base_uri": "https://localhost:8080/"
        }
      },
      "execution_count": 17,
      "outputs": [
        {
          "output_type": "stream",
          "name": "stdout",
          "text": [
            "10432.399\n"
          ]
        }
      ]
    }
  ],
  "metadata": {
    "colab": {
      "collapsed_sections": [],
      "name": "Te damos la bienvenida a Colaboratory",
      "provenance": [],
      "include_colab_link": true
    },
    "kernelspec": {
      "display_name": "Python 3",
      "name": "python3"
    }
  },
  "nbformat": 4,
  "nbformat_minor": 0
}